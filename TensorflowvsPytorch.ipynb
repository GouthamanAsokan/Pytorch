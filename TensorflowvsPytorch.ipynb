{
  "nbformat": 4,
  "nbformat_minor": 0,
  "metadata": {
    "colab": {
      "provenance": []
    },
    "kernelspec": {
      "name": "python3",
      "display_name": "Python 3"
    },
    "language_info": {
      "name": "python"
    }
  },
  "cells": [
    {
      "cell_type": "code",
      "execution_count": 7,
      "metadata": {
        "colab": {
          "base_uri": "https://localhost:8080/"
        },
        "id": "1dsHzvYpsEDY",
        "outputId": "051797a0-5924-414b-8da9-4f19188879eb"
      },
      "outputs": [
        {
          "output_type": "stream",
          "name": "stdout",
          "text": [
            "Derivative of c with respect to a = 20.0\n",
            "Derivative of c with respect to b = 15.0\n"
          ]
        }
      ],
      "source": [
        "# Importing tensorflow version 1\n",
        "import tensorflow.compat.v1 as tf\n",
        "tf.disable_v2_behavior()\n",
        "  \n",
        "# Initializing placeholder variables of\n",
        "# the graph\n",
        "a = tf.placeholder(tf.float32)\n",
        "b = tf.placeholder(tf.float32)\n",
        "  \n",
        "# Defining the operation\n",
        "c = tf.multiply(a, b)\n",
        "  \n",
        "# Instantiating a tensorflow session\n",
        "with tf.Session() as sess:\n",
        "  \n",
        "    # Computing the output of the graph by giving\n",
        "    # respective input values\n",
        "    #out = sess.run(c,feed_dict={a: [15.0], b: [20.0]})[0][0]\n",
        "  \n",
        "    # Computing the output gradient of the output with\n",
        "    # respect to the input 'a'\n",
        "    derivative_out_a = sess.run(tf.gradients(c, a), feed_dict={\n",
        "                                a: [15.0], b: [20.0]})[0][0]\n",
        "  \n",
        "    # Computing the output gradient of the output with\n",
        "    # respect to the input 'b'\n",
        "    derivative_out_b = sess.run(tf.gradients(c, b), feed_dict={\n",
        "                                a: [15.0], b: [20.0]})[0][0]\n",
        "  \n",
        "    # Displaying the outputs\n",
        "    #print(f'c = {out}')\n",
        "    print(f'Derivative of c with respect to a = {derivative_out_a}')\n",
        "    print(f'Derivative of c with respect to b = {derivative_out_b}')"
      ]
    },
    {
      "cell_type": "code",
      "source": [
        "# Importing torch\n",
        "import torch\n",
        "  \n",
        "# Initializing input tensors\n",
        "a = torch.tensor(15.0, requires_grad=True)\n",
        "b = torch.tensor(20.0, requires_grad=True)\n",
        "  \n",
        "# Computing the output\n",
        "c = a * b\n",
        "  \n",
        "# Computing the gradients\n",
        "c.backward()\n",
        "  \n",
        "# Collecting the output gradient of the\n",
        "# output with respect to the input 'a'\n",
        "derivative_out_a = a.grad\n",
        "  \n",
        "# Collecting the output gradient of the\n",
        "# output with respect to the input 'b'\n",
        "derivative_out_b = b.grad\n",
        "  \n",
        "# Displaying the outputs\n",
        "print(f'c = {c}')\n",
        "print(f'Derivative of c with respect to a = {derivative_out_a}')\n",
        "print(f'Derivative of c with respect to b = {derivative_out_b}')"
      ],
      "metadata": {
        "colab": {
          "base_uri": "https://localhost:8080/"
        },
        "id": "JBrMh8AftY4j",
        "outputId": "526f2b4f-91de-46fb-9222-5ed8dc05c9a8"
      },
      "execution_count": 8,
      "outputs": [
        {
          "output_type": "stream",
          "name": "stdout",
          "text": [
            "c = 300.0\n",
            "Derivative of c with respect to a = 20.0\n",
            "Derivative of c with respect to b = 15.0\n"
          ]
        }
      ]
    }
  ]
}