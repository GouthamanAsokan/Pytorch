{
  "nbformat": 4,
  "nbformat_minor": 0,
  "metadata": {
    "colab": {
      "name": "Pytorch_Introduction.ipynb",
      "provenance": []
    },
    "kernelspec": {
      "name": "python3",
      "display_name": "Python 3"
    }
  },
  "cells": [
    {
      "cell_type": "code",
      "metadata": {
        "id": "i4yprpriHj6b",
        "colab_type": "code",
        "colab": {}
      },
      "source": [
        "#Importing the libraries\n",
        "import numpy as np\n",
        "import torch"
      ],
      "execution_count": 0,
      "outputs": []
    },
    {
      "cell_type": "code",
      "metadata": {
        "id": "0srS4By4Ilda",
        "colab_type": "code",
        "colab": {
          "base_uri": "https://localhost:8080/",
          "height": 51
        },
        "outputId": "43d0bd86-46dc-4caf-914f-52038bd5e8d5"
      },
      "source": [
        "#Intialize a numpy array\n",
        "a=np.array(1)\n",
        "\n",
        "#Intialize tensor\n",
        "b=torch.tensor(1)\n",
        "\n",
        "print(a)\n",
        "print(b)"
      ],
      "execution_count": 2,
      "outputs": [
        {
          "output_type": "stream",
          "text": [
            "1\n",
            "tensor(1)\n"
          ],
          "name": "stdout"
        }
      ]
    },
    {
      "cell_type": "code",
      "metadata": {
        "id": "a9jN0dqdI6r9",
        "colab_type": "code",
        "colab": {
          "base_uri": "https://localhost:8080/",
          "height": 34
        },
        "outputId": "cb1d3dfc-2c19-446c-af14-bb38b2d2cc12"
      },
      "source": [
        "type(a),type(b)"
      ],
      "execution_count": 3,
      "outputs": [
        {
          "output_type": "execute_result",
          "data": {
            "text/plain": [
              "(numpy.ndarray, torch.Tensor)"
            ]
          },
          "metadata": {
            "tags": []
          },
          "execution_count": 3
        }
      ]
    },
    {
      "cell_type": "code",
      "metadata": {
        "id": "nMTBipzxI_5a",
        "colab_type": "code",
        "colab": {
          "base_uri": "https://localhost:8080/",
          "height": 34
        },
        "outputId": "9d4e08f0-f92e-493a-94a9-e534613ae58d"
      },
      "source": [
        "#Intialize two arrays\n",
        "a=np.array(1)\n",
        "b=np.array(2)\n",
        "print(a,b)\n"
      ],
      "execution_count": 4,
      "outputs": [
        {
          "output_type": "stream",
          "text": [
            "1 2\n"
          ],
          "name": "stdout"
        }
      ]
    },
    {
      "cell_type": "code",
      "metadata": {
        "id": "lQDQI7tVJNyY",
        "colab_type": "code",
        "colab": {
          "base_uri": "https://localhost:8080/",
          "height": 85
        },
        "outputId": "0d2175b1-a3e4-492b-9042-dcc17ee82c01"
      },
      "source": [
        "#Mathematical Operations\n",
        "print(a+b)\n",
        "print(a-b)\n",
        "print(a*b)\n",
        "print(a/b)"
      ],
      "execution_count": 5,
      "outputs": [
        {
          "output_type": "stream",
          "text": [
            "3\n",
            "-1\n",
            "2\n",
            "0.5\n"
          ],
          "name": "stdout"
        }
      ]
    },
    {
      "cell_type": "code",
      "metadata": {
        "id": "USu7Tm5QJZWI",
        "colab_type": "code",
        "colab": {
          "base_uri": "https://localhost:8080/",
          "height": 34
        },
        "outputId": "d4ab86b1-9182-4929-9dff-dabd368cfff8"
      },
      "source": [
        "#Intializa two tensors\n",
        "a=torch.tensor(1)\n",
        "b=torch.tensor(2)\n",
        "print(a,b)"
      ],
      "execution_count": 6,
      "outputs": [
        {
          "output_type": "stream",
          "text": [
            "tensor(1) tensor(2)\n"
          ],
          "name": "stdout"
        }
      ]
    },
    {
      "cell_type": "code",
      "metadata": {
        "id": "cXSCanOfJry3",
        "colab_type": "code",
        "colab": {
          "base_uri": "https://localhost:8080/",
          "height": 85
        },
        "outputId": "c6470ef9-73bb-4b9f-f53f-9ebab1e5b772"
      },
      "source": [
        "#Mathematical Operations\n",
        "print(a+b)\n",
        "print(a-b)\n",
        "print(a*b)\n",
        "print(a/b)"
      ],
      "execution_count": 7,
      "outputs": [
        {
          "output_type": "stream",
          "text": [
            "tensor(3)\n",
            "tensor(-1)\n",
            "tensor(2)\n",
            "tensor(0)\n"
          ],
          "name": "stdout"
        }
      ]
    },
    {
      "cell_type": "code",
      "metadata": {
        "id": "9-gNhaeiJt9w",
        "colab_type": "code",
        "colab": {
          "base_uri": "https://localhost:8080/",
          "height": 85
        },
        "outputId": "906d2437-9d95-4e0d-e358-721b518c64f3"
      },
      "source": [
        "#Matrix Intialization\n",
        "a=np.zeros((3,3))\n",
        "print(a)\n",
        "print(a.shape)"
      ],
      "execution_count": 9,
      "outputs": [
        {
          "output_type": "stream",
          "text": [
            "[[0. 0. 0.]\n",
            " [0. 0. 0.]\n",
            " [0. 0. 0.]]\n",
            "(3, 3)\n"
          ],
          "name": "stdout"
        }
      ]
    },
    {
      "cell_type": "code",
      "metadata": {
        "id": "xi8lsQbaKMJ4",
        "colab_type": "code",
        "colab": {
          "base_uri": "https://localhost:8080/",
          "height": 85
        },
        "outputId": "0d270ac4-42de-441b-a751-be6757b07494"
      },
      "source": [
        "#Matrix Intialization\n",
        "a=torch.zeros((3,3))\n",
        "print(a)\n",
        "print(a.shape)"
      ],
      "execution_count": 10,
      "outputs": [
        {
          "output_type": "stream",
          "text": [
            "tensor([[0., 0., 0.],\n",
            "        [0., 0., 0.],\n",
            "        [0., 0., 0.]])\n",
            "torch.Size([3, 3])\n"
          ],
          "name": "stdout"
        }
      ]
    },
    {
      "cell_type": "code",
      "metadata": {
        "id": "y7ClDHsjKWF0",
        "colab_type": "code",
        "colab": {
          "base_uri": "https://localhost:8080/",
          "height": 68
        },
        "outputId": "8cc87552-ad19-47ec-c1a1-ad7828614bf5"
      },
      "source": [
        "#random seed\n",
        "np.random.seed(30)\n",
        "\n",
        "a=np.random.randn(3,3)\n",
        "a"
      ],
      "execution_count": 12,
      "outputs": [
        {
          "output_type": "execute_result",
          "data": {
            "text/plain": [
              "array([[-1.26405266,  1.52790535, -0.97071094],\n",
              "       [ 0.47055962, -0.10069672,  0.30379318],\n",
              "       [-1.72596243,  1.58509537,  0.13429659]])"
            ]
          },
          "metadata": {
            "tags": []
          },
          "execution_count": 12
        }
      ]
    },
    {
      "cell_type": "code",
      "metadata": {
        "id": "n38ulbAsKyfS",
        "colab_type": "code",
        "colab": {
          "base_uri": "https://localhost:8080/",
          "height": 68
        },
        "outputId": "7da63884-7b12-4fb7-8a46-5b43a0d3ceb4"
      },
      "source": [
        "#random seed\n",
        "torch.manual_seed(30)\n",
        "\n",
        "a=torch.randn(3,3)\n",
        "a"
      ],
      "execution_count": 14,
      "outputs": [
        {
          "output_type": "execute_result",
          "data": {
            "text/plain": [
              "tensor([[ 0.4705,  1.6563,  0.5153],\n",
              "        [-0.2744, -2.2606,  1.2280],\n",
              "        [ 0.7928,  0.6231, -2.1520]])"
            ]
          },
          "metadata": {
            "tags": []
          },
          "execution_count": 14
        }
      ]
    },
    {
      "cell_type": "code",
      "metadata": {
        "id": "DBbGMp2_LNeo",
        "colab_type": "code",
        "colab": {}
      },
      "source": [
        "#Matrix Operations\n",
        "np.random.seed(30)\n",
        "a=np.random.randn(3,3)\n",
        "b=np.random.randn(3,3)\n",
        "\n"
      ],
      "execution_count": 0,
      "outputs": []
    },
    {
      "cell_type": "code",
      "metadata": {
        "id": "ss-2guw1LZWX",
        "colab_type": "code",
        "colab": {
          "base_uri": "https://localhost:8080/",
          "height": 289
        },
        "outputId": "022b15ad-fbcf-4c3a-9fca-91e59577283b"
      },
      "source": [
        "print(np.add(a,b),'\\n')\n",
        "print(np.subtract(a,b),'\\n')\n",
        "print(np.multiply(a,b),'\\n')\n",
        "print(np.divide(a,b),'\\n')"
      ],
      "execution_count": 17,
      "outputs": [
        {
          "output_type": "stream",
          "text": [
            "[[-2.37090813  3.1061309  -0.863213  ]\n",
            " [-0.29348821 -0.87588523  1.68764035]\n",
            " [-0.96557734  1.29944986  0.67266407]] \n",
            "\n",
            "[[-0.1571972  -0.0503202  -1.07820888]\n",
            " [ 1.23460744  0.67449179 -1.08005398]\n",
            " [-2.48634751  1.87074088 -0.40407088]] \n",
            "\n",
            "[[ 1.3991236   2.41137926 -0.10434943]\n",
            " [-0.35953005  0.07805894  0.42040334]\n",
            " [-1.31239609 -0.45277538  0.07230092]] \n",
            "\n",
            "[[ 1.14202143  0.96811597 -9.030042  ]\n",
            " [-0.61587717  0.12989965  0.21952799]\n",
            " [-2.26985308 -5.54916948  0.24945153]] \n",
            "\n"
          ],
          "name": "stdout"
        }
      ]
    },
    {
      "cell_type": "code",
      "metadata": {
        "id": "031l8n4LLsZZ",
        "colab_type": "code",
        "colab": {
          "base_uri": "https://localhost:8080/",
          "height": 119
        },
        "outputId": "c630261c-3a5e-4b45-9d87-ad400966f75e"
      },
      "source": [
        "print(a)\n",
        "print(np.transpose(a))"
      ],
      "execution_count": 18,
      "outputs": [
        {
          "output_type": "stream",
          "text": [
            "[[-1.26405266  1.52790535 -0.97071094]\n",
            " [ 0.47055962 -0.10069672  0.30379318]\n",
            " [-1.72596243  1.58509537  0.13429659]]\n",
            "[[-1.26405266  0.47055962 -1.72596243]\n",
            " [ 1.52790535 -0.10069672  1.58509537]\n",
            " [-0.97071094  0.30379318  0.13429659]]\n"
          ],
          "name": "stdout"
        }
      ]
    },
    {
      "cell_type": "code",
      "metadata": {
        "id": "jYOwxJ9fL08z",
        "colab_type": "code",
        "colab": {}
      },
      "source": [
        "#Matrix Operations\n",
        "torch.manual_seed(30)\n",
        "a=torch.randn(3,3)\n",
        "b=torch.randn(3,3)"
      ],
      "execution_count": 0,
      "outputs": []
    },
    {
      "cell_type": "code",
      "metadata": {
        "id": "oJm_sKoAMF70",
        "colab_type": "code",
        "colab": {
          "base_uri": "https://localhost:8080/",
          "height": 289
        },
        "outputId": "c4d13464-cdb0-44d2-d1d9-a5bd8d13024a"
      },
      "source": [
        "print(torch.add(a,b),'\\n')\n",
        "print(torch.sub(a,b),'\\n')\n",
        "print(torch.mm(a,b),'\\n')\n",
        "print(torch.div(a,b),'\\n')"
      ],
      "execution_count": 20,
      "outputs": [
        {
          "output_type": "stream",
          "text": [
            "tensor([[ 0.4453,  2.6512,  0.5647],\n",
            "        [-0.0863, -1.0650, -0.3315],\n",
            "        [ 0.5449,  1.0686, -2.3299]]) \n",
            "\n",
            "tensor([[ 0.4957,  0.6614,  0.4659],\n",
            "        [-0.4626, -3.4562,  2.7874],\n",
            "        [ 1.0407,  0.1777, -1.9742]]) \n",
            "\n",
            "tensor([[ 0.1721,  2.6780, -2.6514],\n",
            "        [-0.7229, -2.4287,  3.2933],\n",
            "        [ 0.6308,  0.5751, -0.5498]]) \n",
            "\n",
            "tensor([[-18.6860,   1.6648,  10.4385],\n",
            "        [ -1.4583,  -1.8907,  -0.7874],\n",
            "        [ -3.1984,   1.3988,  12.0983]]) \n",
            "\n"
          ],
          "name": "stdout"
        }
      ]
    },
    {
      "cell_type": "code",
      "metadata": {
        "id": "jTEx1i7jMUPE",
        "colab_type": "code",
        "colab": {
          "base_uri": "https://localhost:8080/",
          "height": 136
        },
        "outputId": "22b030ad-3ea1-44b5-a066-ace0b64fa177"
      },
      "source": [
        "# original matrix\n",
        "print(a, '\\n')\n",
        "\n",
        "# matrix transpose\n",
        "torch.t(a)"
      ],
      "execution_count": 21,
      "outputs": [
        {
          "output_type": "stream",
          "text": [
            "tensor([[ 0.4705,  1.6563,  0.5153],\n",
            "        [-0.2744, -2.2606,  1.2280],\n",
            "        [ 0.7928,  0.6231, -2.1520]]) \n",
            "\n"
          ],
          "name": "stdout"
        },
        {
          "output_type": "execute_result",
          "data": {
            "text/plain": [
              "tensor([[ 0.4705, -0.2744,  0.7928],\n",
              "        [ 1.6563, -2.2606,  0.6231],\n",
              "        [ 0.5153,  1.2280, -2.1520]])"
            ]
          },
          "metadata": {
            "tags": []
          },
          "execution_count": 21
        }
      ]
    },
    {
      "cell_type": "code",
      "metadata": {
        "id": "93wYxKtcMYzs",
        "colab_type": "code",
        "colab": {
          "base_uri": "https://localhost:8080/",
          "height": 102
        },
        "outputId": "5b08db6f-ef81-4634-b176-5a2f83ace722"
      },
      "source": [
        "#Concatenating tensors\n",
        "a = torch.tensor([[1,2],[3,4]])\n",
        "b = torch.tensor([[5,6],[7,8]])\n",
        "print(a, '\\n')\n",
        "print(b)"
      ],
      "execution_count": 22,
      "outputs": [
        {
          "output_type": "stream",
          "text": [
            "tensor([[1, 2],\n",
            "        [3, 4]]) \n",
            "\n",
            "tensor([[5, 6],\n",
            "        [7, 8]])\n"
          ],
          "name": "stdout"
        }
      ]
    },
    {
      "cell_type": "code",
      "metadata": {
        "id": "kQyN-DE8MmQG",
        "colab_type": "code",
        "colab": {
          "base_uri": "https://localhost:8080/",
          "height": 85
        },
        "outputId": "2db223d6-2d0a-4123-bc76-4cba1e29b4e7"
      },
      "source": [
        "torch.cat((a,b))"
      ],
      "execution_count": 24,
      "outputs": [
        {
          "output_type": "execute_result",
          "data": {
            "text/plain": [
              "tensor([[1, 2],\n",
              "        [3, 4],\n",
              "        [5, 6],\n",
              "        [7, 8]])"
            ]
          },
          "metadata": {
            "tags": []
          },
          "execution_count": 24
        }
      ]
    },
    {
      "cell_type": "code",
      "metadata": {
        "id": "1gx_vXqBMuxy",
        "colab_type": "code",
        "colab": {
          "base_uri": "https://localhost:8080/",
          "height": 51
        },
        "outputId": "5d16842a-08c9-4001-cedb-1b8bfeeb55ad"
      },
      "source": [
        "#stacking horizontally\n",
        "torch.cat((a,b),dim=1)"
      ],
      "execution_count": 25,
      "outputs": [
        {
          "output_type": "execute_result",
          "data": {
            "text/plain": [
              "tensor([[1, 2, 5, 6],\n",
              "        [3, 4, 7, 8]])"
            ]
          },
          "metadata": {
            "tags": []
          },
          "execution_count": 25
        }
      ]
    },
    {
      "cell_type": "code",
      "metadata": {
        "id": "kqvEz_raM5as",
        "colab_type": "code",
        "colab": {
          "base_uri": "https://localhost:8080/",
          "height": 68
        },
        "outputId": "19738276-c5d7-4669-b5a2-c0ed69579073"
      },
      "source": [
        "# setting the random seed for pytorch\n",
        "torch.manual_seed(42)\n",
        "# initializing tensor\n",
        "a = torch.randn(2,4)\n",
        "print(a)\n",
        "a.shape"
      ],
      "execution_count": 26,
      "outputs": [
        {
          "output_type": "stream",
          "text": [
            "tensor([[ 0.3367,  0.1288,  0.2345,  0.2303],\n",
            "        [-1.1229, -0.1863,  2.2082, -0.6380]])\n"
          ],
          "name": "stdout"
        },
        {
          "output_type": "execute_result",
          "data": {
            "text/plain": [
              "torch.Size([2, 4])"
            ]
          },
          "metadata": {
            "tags": []
          },
          "execution_count": 26
        }
      ]
    },
    {
      "cell_type": "code",
      "metadata": {
        "id": "__xbWAYcNBGc",
        "colab_type": "code",
        "colab": {
          "base_uri": "https://localhost:8080/",
          "height": 51
        },
        "outputId": "09856b0d-fc88-44be-9d82-9b4280bc6b07"
      },
      "source": [
        "# reshaping tensor\n",
        "b = a.reshape(1,8)\n",
        "print(b)\n",
        "b.shape"
      ],
      "execution_count": 27,
      "outputs": [
        {
          "output_type": "stream",
          "text": [
            "tensor([[ 0.3367,  0.1288,  0.2345,  0.2303, -1.1229, -0.1863,  2.2082, -0.6380]])\n"
          ],
          "name": "stdout"
        },
        {
          "output_type": "execute_result",
          "data": {
            "text/plain": [
              "torch.Size([1, 8])"
            ]
          },
          "metadata": {
            "tags": []
          },
          "execution_count": 27
        }
      ]
    },
    {
      "cell_type": "code",
      "metadata": {
        "id": "MWDjues1NLR1",
        "colab_type": "code",
        "colab": {
          "base_uri": "https://localhost:8080/",
          "height": 102
        },
        "outputId": "ca536674-f5eb-4e09-85f6-f654227e333f"
      },
      "source": [
        "# initializing a numpy array\n",
        "a = np.array([[1,2],[3,4]])\n",
        "print(a, '\\n')\n",
        "\n",
        "# converting the numpy array to tensor\n",
        "tensor = torch.from_numpy(a)\n",
        "print(tensor)"
      ],
      "execution_count": 28,
      "outputs": [
        {
          "output_type": "stream",
          "text": [
            "[[1 2]\n",
            " [3 4]] \n",
            "\n",
            "tensor([[1, 2],\n",
            "        [3, 4]])\n"
          ],
          "name": "stdout"
        }
      ]
    },
    {
      "cell_type": "code",
      "metadata": {
        "id": "eM7-jkUoNToG",
        "colab_type": "code",
        "colab": {
          "base_uri": "https://localhost:8080/",
          "height": 51
        },
        "outputId": "63f99a1b-34f7-4eea-90c8-7ff52fcef974"
      },
      "source": [
        "#Autograd module\n",
        "# initializing a tensor\n",
        "a = torch.ones((2,2), requires_grad=True)\n",
        "a"
      ],
      "execution_count": 29,
      "outputs": [
        {
          "output_type": "execute_result",
          "data": {
            "text/plain": [
              "tensor([[1., 1.],\n",
              "        [1., 1.]], requires_grad=True)"
            ]
          },
          "metadata": {
            "tags": []
          },
          "execution_count": 29
        }
      ]
    },
    {
      "cell_type": "code",
      "metadata": {
        "id": "z14046WlNqoj",
        "colab_type": "code",
        "colab": {
          "base_uri": "https://localhost:8080/",
          "height": 51
        },
        "outputId": "524f72cd-f512-4503-9ea3-d4d30d4a6a61"
      },
      "source": [
        "# performing operations on the tensor\n",
        "b = a + 5\n",
        "c = b.mean()\n",
        "print(b,c)"
      ],
      "execution_count": 30,
      "outputs": [
        {
          "output_type": "stream",
          "text": [
            "tensor([[6., 6.],\n",
            "        [6., 6.]], grad_fn=<AddBackward0>) tensor(6., grad_fn=<MeanBackward0>)\n"
          ],
          "name": "stdout"
        }
      ]
    },
    {
      "cell_type": "code",
      "metadata": {
        "id": "6JTeRdmxN7QF",
        "colab_type": "code",
        "colab": {
          "base_uri": "https://localhost:8080/",
          "height": 51
        },
        "outputId": "d5f3b51d-c026-4fa7-bcb7-7f55a1785bfc"
      },
      "source": [
        "# back propagating\n",
        "c.backward()\n",
        "\n",
        "# computing gradients\n",
        "print(a.grad)"
      ],
      "execution_count": 31,
      "outputs": [
        {
          "output_type": "stream",
          "text": [
            "tensor([[0.2500, 0.2500],\n",
            "        [0.2500, 0.2500]])\n"
          ],
          "name": "stdout"
        }
      ]
    },
    {
      "cell_type": "code",
      "metadata": {
        "id": "CGkbBnOSOTuA",
        "colab_type": "code",
        "colab": {}
      },
      "source": [
        "# importing the optim module\n",
        "from torch import optim\n",
        "\n",
        "# adam\n",
        "#adam = optim.Adam(model.parameters(), lr=learning_rate)"
      ],
      "execution_count": 0,
      "outputs": []
    }
  ]
}